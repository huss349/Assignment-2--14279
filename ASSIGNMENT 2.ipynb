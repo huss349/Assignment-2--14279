{
 "cells": [
  {
   "cell_type": "code",
   "execution_count": 11,
   "id": "56926178-9108-4fc3-b2da-8c527de3bb5c",
   "metadata": {},
   "outputs": [
    {
     "name": "stdin",
     "output_type": "stream",
     "text": [
      "Enter your age:  20\n"
     ]
    },
    {
     "name": "stdout",
     "output_type": "stream",
     "text": [
      "Adult\n"
     ]
    }
   ],
   "source": [
    "# TASK 01 \n",
    "\n",
    "age = int(input(\"Enter your age: \"))\n",
    "\n",
    "if 0 <= age <= 12:\n",
    "    print(\"Child\")\n",
    "elif 13 <= age <= 19:\n",
    "    print(\"Teenager\")\n",
    "elif 20 <= age <= 64:\n",
    "    print(\"Adult\")\n",
    "elif age >= 65:\n",
    "    print(\"Senior\")\n",
    "else:\n",
    "    print(\"Invalid age\")"
   ]
  },
  {
   "cell_type": "code",
   "execution_count": 15,
   "id": "8c85c035-a42c-43b9-a192-9c68cab97cba",
   "metadata": {},
   "outputs": [
    {
     "name": "stdin",
     "output_type": "stream",
     "text": [
      "Enter membership status (premium/regular):  premium\n",
      "Enter purchase amount:  2000\n"
     ]
    },
    {
     "name": "stdout",
     "output_type": "stream",
     "text": [
      "Eligible for discount\n"
     ]
    }
   ],
   "source": [
    "# TASK 02\n",
    "\n",
    "membership = input(\"Enter membership status (premium/regular): \")\n",
    "purchase_amount = float(input(\"Enter purchase amount: \"))\n",
    "\n",
    "if (membership == \"premium\" and purchase_amount >= 1000) or (membership == \"regular\" and purchase_amount >= 2000):\n",
    "    print(\"Eligible for discount\")\n",
    "else:\n",
    "    print(\"Not eligible for discount\")\n"
   ]
  },
  {
   "cell_type": "code",
   "execution_count": 17,
   "id": "13c09db0-0fe0-40e8-a552-777c0695e91d",
   "metadata": {},
   "outputs": [
    {
     "name": "stdin",
     "output_type": "stream",
     "text": [
      "Enter your age:  20\n",
      "Enter your citizenship status (citizen/non-citizen):  citizen\n"
     ]
    },
    {
     "name": "stdout",
     "output_type": "stream",
     "text": [
      "Eligible to vote\n"
     ]
    }
   ],
   "source": [
    "# TASK 03\n",
    "\n",
    "age = int(input(\"Enter your age: \"))\n",
    "citizenship = input(\"Enter your citizenship status (citizen/non-citizen): \")\n",
    "\n",
    "if (age >= 18 and citizenship == \"citizen\") or (age >= 16 and citizenship == \"citizen\"):\n",
    "    print(\"Eligible to vote\")\n",
    "else:\n",
    "    print(\"Not eligible to vote\")\n"
   ]
  },
  {
   "cell_type": "code",
   "execution_count": 21,
   "id": "6ac14d2f-aab2-4a0c-bdaa-7eda57382bca",
   "metadata": {},
   "outputs": [
    {
     "name": "stdin",
     "output_type": "stream",
     "text": [
      "Enter performance rating (Excellent/Good/Satisfactory):  Excellent\n",
      "Enter years of service:  10\n"
     ]
    },
    {
     "name": "stdout",
     "output_type": "stream",
     "text": [
      "Eligible for bonus\n"
     ]
    }
   ],
   "source": [
    "# TASK 04\n",
    "\n",
    "rating = input(\"Enter performance rating (Excellent/Good/Satisfactory): \")\n",
    "years_of_service = int(input(\"Enter years of service: \"))\n",
    "\n",
    "if rating == \"Excellent\" and years_of_service >= 5:\n",
    "    print(\"Eligible for bonus\")\n",
    "elif rating == \"Good\" and years_of_service >= 10:\n",
    "    print(\"Eligible for bonus\")\n",
    "elif rating == \"Satisfactory\" or years_of_service >= 15:\n",
    "    print(\"Eligible for bonus\")\n",
    "else:\n",
    "    print(\"Not eligible for bonus\")\n"
   ]
  },
  {
   "cell_type": "code",
   "execution_count": 23,
   "id": "b193abba-2784-4d40-99db-630d39886207",
   "metadata": {},
   "outputs": [
    {
     "name": "stdout",
     "output_type": "stream",
     "text": [
      "Modified text: I'm_learning_Python_programming\n",
      "Number of underscores: 3\n",
      "Position of first underscore: 3\n"
     ]
    }
   ],
   "source": [
    "# TASK 05 \n",
    "\n",
    "text = \"I'm learning Python programming\"\n",
    "\n",
    "modified_text = text.replace(\" \", \"_\")\n",
    "count_underscores = modified_text.count(\"_\")\n",
    "first_underscore = modified_text.find(\"_\")\n",
    "\n",
    "print(\"Modified text:\", modified_text)\n",
    "print(\"Number of underscores:\", count_underscores)\n",
    "print(\"Position of first underscore:\", first_underscore)\n"
   ]
  },
  {
   "cell_type": "code",
   "execution_count": 25,
   "id": "2bb79d81-76a9-4df0-85e8-b3bb3a9a64cc",
   "metadata": {},
   "outputs": [
    {
     "name": "stdin",
     "output_type": "stream",
     "text": [
      "Enter a string:  hello world \n"
     ]
    },
    {
     "name": "stdout",
     "output_type": "stream",
     "text": [
      "All characters except the last 3: hello wor\n",
      "Every second character: hlowrd\n",
      "String in reverse:  dlrow olleh\n"
     ]
    }
   ],
   "source": [
    "# TASK 06\n",
    "\n",
    "text = input(\"Enter a string: \")\n",
    "\n",
    "print(\"All characters except the last 3:\", text[:-3])\n",
    "print(\"Every second character:\", text[::2])\n",
    "print(\"String in reverse:\", text[::-1])\n"
   ]
  },
  {
   "cell_type": "code",
   "execution_count": 27,
   "id": "cb9503b8-82f8-4238-89e0-42563cbe6d73",
   "metadata": {},
   "outputs": [
    {
     "name": "stdout",
     "output_type": "stream",
     "text": [
      "Reversed sentence: Python learning are We World, Hello\n"
     ]
    }
   ],
   "source": [
    "# TASK 07\n",
    "\n",
    "sentence = \"Hello World, We are learning Python\"\n",
    "\n",
    "words = sentence.split()\n",
    "reversed_sentence = \" \".join(reversed(words))\n",
    "print(\"Reversed sentence:\", reversed_sentence)\n"
   ]
  },
  {
   "cell_type": "code",
   "execution_count": 29,
   "id": "90a56dba-cc17-4d62-abe0-a71b26593321",
   "metadata": {},
   "outputs": [
    {
     "name": "stdout",
     "output_type": "stream",
     "text": [
      "Extracted number: 12345\n"
     ]
    }
   ],
   "source": [
    "# TASK 08\n",
    "product_code = \"SKU-12345-XYZ\"\n",
    "\n",
    "number = product_code.replace(\"SKU-\", \"\").replace(\"-XYZ\", \"\")\n",
    "print(\"Extracted number:\", number)\n"
   ]
  },
  {
   "cell_type": "code",
   "execution_count": 33,
   "id": "54f19d20-00ae-4f0c-ba09-55cf4bea107e",
   "metadata": {},
   "outputs": [
    {
     "name": "stdin",
     "output_type": "stream",
     "text": [
      "Enter a password:  Hussain Raza@\n"
     ]
    },
    {
     "name": "stdout",
     "output_type": "stream",
     "text": [
      "Contains uppercase: True\n",
      "Contains lowercase: True\n",
      "Contains spaces: True\n",
      "Contains special characters: True\n"
     ]
    }
   ],
   "source": [
    "# TASK 09\n",
    "\n",
    "password = input(\"Enter a password: \")\n",
    "\n",
    "\n",
    "has_upper = any(char.isupper() for char in password)\n",
    "has_lower = any(char.islower() for char in password)\n",
    "has_space = \" \" in password\n",
    "has_special = any(not char.isalnum() and char != \" \" for char in password)\n",
    "\n",
    "print(\"Contains uppercase:\", has_upper)\n",
    "print(\"Contains lowercase:\", has_lower)\n",
    "print(\"Contains spaces:\", has_space)\n",
    "print(\"Contains special characters:\", has_special)\n"
   ]
  },
  {
   "cell_type": "code",
   "execution_count": 35,
   "id": "12ba3ad2-7fee-4261-a7fd-950187f5cc64",
   "metadata": {},
   "outputs": [
    {
     "name": "stdout",
     "output_type": "stream",
     "text": [
      "Longest word: programming\n"
     ]
    }
   ],
   "source": [
    "# TASK 10\n",
    "\n",
    "sentence = \"I love programming in Python\"\n",
    "\n",
    "words = sentence.split()\n",
    "longest_word = max(words, key=len)\n",
    "\n",
    "print(\"Longest word:\", longest_word)\n"
   ]
  }
 ],
 "metadata": {
  "kernelspec": {
   "display_name": "Python 3 (ipykernel)",
   "language": "python",
   "name": "python3"
  },
  "language_info": {
   "codemirror_mode": {
    "name": "ipython",
    "version": 3
   },
   "file_extension": ".py",
   "mimetype": "text/x-python",
   "name": "python",
   "nbconvert_exporter": "python",
   "pygments_lexer": "ipython3",
   "version": "3.12.7"
  }
 },
 "nbformat": 4,
 "nbformat_minor": 5
}
